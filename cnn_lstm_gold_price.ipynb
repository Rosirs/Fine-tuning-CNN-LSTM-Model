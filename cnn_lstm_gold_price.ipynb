{
 "cells": [
  {
   "cell_type": "code",
   "execution_count": 1,
   "metadata": {},
   "outputs": [],
   "source": [
    "import numpy as np\n",
    "import pandas as pd\n",
    "\n",
    "from sklearn.svm import SVR\n",
    "from sklearn.preprocessing import MinMaxScaler\n",
    "from sklearn.metrics import mean_absolute_error, mean_squared_error, roc_curve, auc\n",
    "\n",
    "import tensorflow as tf\n",
    "from tensorflow.keras.optimizers import Adam\n",
    "from tensorflow.keras.models import Sequential\n",
    "from tensorflow.keras.layers import Dense, LSTM, Conv1D, MaxPooling1D, InputLayer, Dropout\n",
    "# from tensorflow.keras.wrappers.scikit_learn import KerasClassifier\n",
    "\n",
    "import matplotlib.pyplot as plt"
   ]
  },
  {
   "cell_type": "code",
   "execution_count": 2,
   "metadata": {},
   "outputs": [
    {
     "name": "stdout",
     "output_type": "stream",
     "text": [
      "Dataset shape:  (1176, 7)\n",
      "Date          object\n",
      "Open         float64\n",
      "High         float64\n",
      "Low          float64\n",
      "Close        float64\n",
      "Adj Close    float64\n",
      "Volume       float64\n",
      "dtype: object\n"
     ]
    },
    {
     "data": {
      "text/html": [
       "<div>\n",
       "<style scoped>\n",
       "    .dataframe tbody tr th:only-of-type {\n",
       "        vertical-align: middle;\n",
       "    }\n",
       "\n",
       "    .dataframe tbody tr th {\n",
       "        vertical-align: top;\n",
       "    }\n",
       "\n",
       "    .dataframe thead th {\n",
       "        text-align: right;\n",
       "    }\n",
       "</style>\n",
       "<table border=\"1\" class=\"dataframe\">\n",
       "  <thead>\n",
       "    <tr style=\"text-align: right;\">\n",
       "      <th></th>\n",
       "      <th>Date</th>\n",
       "      <th>Open</th>\n",
       "      <th>High</th>\n",
       "      <th>Low</th>\n",
       "      <th>Close</th>\n",
       "      <th>Adj Close</th>\n",
       "      <th>Volume</th>\n",
       "    </tr>\n",
       "  </thead>\n",
       "  <tbody>\n",
       "    <tr>\n",
       "      <th>0</th>\n",
       "      <td>2019-08-14</td>\n",
       "      <td>12.4000</td>\n",
       "      <td>12.40</td>\n",
       "      <td>12.26</td>\n",
       "      <td>12.4000</td>\n",
       "      <td>12.4000</td>\n",
       "      <td>74938.0</td>\n",
       "    </tr>\n",
       "    <tr>\n",
       "      <th>1</th>\n",
       "      <td>2019-08-15</td>\n",
       "      <td>12.3800</td>\n",
       "      <td>12.47</td>\n",
       "      <td>12.38</td>\n",
       "      <td>12.4000</td>\n",
       "      <td>12.4000</td>\n",
       "      <td>18754.0</td>\n",
       "    </tr>\n",
       "    <tr>\n",
       "      <th>2</th>\n",
       "      <td>2019-08-18</td>\n",
       "      <td>12.4000</td>\n",
       "      <td>12.50</td>\n",
       "      <td>12.50</td>\n",
       "      <td>12.5000</td>\n",
       "      <td>12.5000</td>\n",
       "      <td>2332.0</td>\n",
       "    </tr>\n",
       "    <tr>\n",
       "      <th>3</th>\n",
       "      <td>2019-08-19</td>\n",
       "      <td>12.5000</td>\n",
       "      <td>12.48</td>\n",
       "      <td>12.35</td>\n",
       "      <td>12.3746</td>\n",
       "      <td>12.3746</td>\n",
       "      <td>23745.0</td>\n",
       "    </tr>\n",
       "    <tr>\n",
       "      <th>4</th>\n",
       "      <td>2019-08-20</td>\n",
       "      <td>12.3746</td>\n",
       "      <td>12.37</td>\n",
       "      <td>12.33</td>\n",
       "      <td>12.3300</td>\n",
       "      <td>12.3300</td>\n",
       "      <td>212351.0</td>\n",
       "    </tr>\n",
       "  </tbody>\n",
       "</table>\n",
       "</div>"
      ],
      "text/plain": [
       "         Date     Open   High    Low    Close  Adj Close    Volume\n",
       "0  2019-08-14  12.4000  12.40  12.26  12.4000    12.4000   74938.0\n",
       "1  2019-08-15  12.3800  12.47  12.38  12.4000    12.4000   18754.0\n",
       "2  2019-08-18  12.4000  12.50  12.50  12.5000    12.5000    2332.0\n",
       "3  2019-08-19  12.5000  12.48  12.35  12.3746    12.3746   23745.0\n",
       "4  2019-08-20  12.3746  12.37  12.33  12.3300    12.3300  212351.0"
      ]
     },
     "execution_count": 2,
     "metadata": {},
     "output_type": "execute_result"
    }
   ],
   "source": [
    "# Reading the dataset\n",
    "data_csv = \"../data/dataset.csv\"\n",
    "df = pd.read_csv(data_csv)\n",
    "print('Dataset shape: ', df.shape)\n",
    "print(df.dtypes)\n",
    "df.head()"
   ]
  },
  {
   "cell_type": "code",
   "execution_count": 3,
   "metadata": {},
   "outputs": [
    {
     "name": "stdout",
     "output_type": "stream",
     "text": [
      "     Open  High  Low  Close  Adj Close  Volume\n",
      "72    NaN   NaN  NaN    NaN        NaN     NaN\n",
      "457   NaN   NaN  NaN    NaN        NaN     NaN\n",
      "467   NaN   NaN  NaN    NaN        NaN     NaN\n",
      "501   NaN   NaN  NaN    NaN        NaN     NaN\n",
      "513   NaN   NaN  NaN    NaN        NaN     NaN\n",
      "Dataset shape:  (1144, 7)\n"
     ]
    }
   ],
   "source": [
    "# Verifying null values and deleting name from dataset\n",
    "null_columns=df.columns[df.isnull().any()]\n",
    "print(df[df.isnull().any(axis=1)][null_columns].head())\n",
    "# Drop the lines with null values\n",
    "df = df.dropna()\n",
    "# Drop Date column\n",
    "# df.pop(\"Date\")\n",
    "\n",
    "print('Dataset shape: ', df.shape)"
   ]
  },
  {
   "cell_type": "code",
   "execution_count": 4,
   "metadata": {},
   "outputs": [
    {
     "name": "stdout",
     "output_type": "stream",
     "text": [
      "Minimum: 11.65\n",
      "Maximum: 19.941999\n",
      "Mean: 14.230973513111886\n",
      "Median: 13.8269\n",
      "SD: 1.6454705048232097\n",
      "Skewness: 1.0012988186754024\n",
      "Kurtosis: 0.6677055658188862\n"
     ]
    }
   ],
   "source": [
    "print(\"Minimum: {}\\nMaximum: {}\\nMean: {}\\nMedian: {}\\nSD: {}\\nSkewness: {}\\nKurtosis: {}\".format(df[\"Low\"].min(), df[\"High\"].max(), \n",
    "df[\"Open\"].mean(), df[\"Open\"].median(), df[\"Open\"].std(), df[\"Open\"].skew(), df[\"Open\"].kurtosis()))"
   ]
  },
  {
   "cell_type": "code",
   "execution_count": 5,
   "metadata": {},
   "outputs": [
    {
     "data": {
      "image/png": "[encoded data removed]",
      "text/plain": [
       "<Figure size 640x480 with 1 Axes>"
      ]
     },
     "metadata": {},
     "output_type": "display_data"
    }
   ],
   "source": [
    "lastday_2017 = df.loc[df[\"Date\"]==\"2023-05-30\"].index.values[0]\n",
    "df = df[\"Open\"].values\n",
    "\n",
    "\n",
    "plt.figure()\n",
    "plt.plot(df/10)\n",
    "plt.xlabel(\"Days\")\n",
    "plt.ylabel(\"Price (*10^-1)\")\n",
    "plt.grid()\n",
    "plt.show()"
   ]
  },
  {
   "cell_type": "code",
   "execution_count": 6,
   "metadata": {},
   "outputs": [
    {
     "name": "stdout",
     "output_type": "stream",
     "text": [
      "Train:  (925,) Test:  (219,)\n"
     ]
    },
    {
     "data": {
      "text/plain": [
       "925"
      ]
     },
     "execution_count": 6,
     "metadata": {},
     "output_type": "execute_result"
    }
   ],
   "source": [
    "# Transforming the dataset to ln scale\n",
    "df = np.log(df)\n",
    "\n",
    "# # Split dataset into train and test\n",
    "train_set = df[0:lastday_2017]\n",
    "test_set = df[lastday_2017:]\n",
    "print(\"Train: \", train_set.shape, \"Test: \", test_set.shape)\n",
    "lastday_2017"
   ]
  },
  {
   "cell_type": "code",
   "execution_count": 7,
   "metadata": {},
   "outputs": [
    {
     "data": {
      "text/plain": [
       "925"
      ]
     },
     "execution_count": 7,
     "metadata": {},
     "output_type": "execute_result"
    }
   ],
   "source": [
    "lastday_2017"
   ]
  },
  {
   "cell_type": "markdown",
   "metadata": {},
   "source": [
    "## Labels of an LSTM network\n",
    "Now for the labels of the LSTM network, not all the cases require a label matrix of 3 dimensions. The cases where this is required are on sequence to sequence problems, where the model is made to predict a sequence of timestamps of one or more features. However for our problem, the LSTM network needs to predict the next day gold price closing value, this way a matrix of 2 dimensions will suffice for this problem."
   ]
  },
  {
   "cell_type": "markdown",
   "metadata": {},
   "source": [
    "# Regression models"
   ]
  },
  {
   "cell_type": "code",
   "execution_count": 8,
   "metadata": {},
   "outputs": [],
   "source": [
    "# FFNN class\n",
    "class FFNN:\n",
    "    def __init__(self, input_dim, scaler=None):\n",
    "        self.scaler = scaler \n",
    "        optimizer = Adam()\n",
    "        h_n = 3 if input_dim == 4 or input_dim == 6 else 5\n",
    "        self.model = Sequential()\n",
    "        self.model.add(Dense(h_n, input_dim=input_dim))\n",
    "        self.model.add(Dense(1))\n",
    "        self.model.compile(loss=\"mean_squared_error\", optimizer=optimizer, metrics=[\"accuracy\", \"mean_absolute_error\"])\n",
    "    \n",
    "    def fit(self,x_train,y_train):\n",
    "        if self.scaler:\n",
    "            x_train = self.scaler.transform(x_train)\n",
    "            y_train = self.scaler.transform(y_train)\n",
    "        self.model.fit(x_train, y_train,\n",
    "                        verbose=0\n",
    "                      )\n",
    "\n",
    "    def predict(self, x_test):\n",
    "        if self.scaler:\n",
    "            x_test = self.scaler.transform(x_test)\n",
    "            \n",
    "        y_valid_pred = self.model.predict(x_test)\n",
    "        \n",
    "        if self.scaler:\n",
    "            y_valid_pred = self.scaler.transform(y_valid_pred)\n",
    "\n",
    "        return y_valid_pred.flatten()"
   ]
  },
  {
   "cell_type": "code",
   "execution_count": 9,
   "metadata": {},
   "outputs": [],
   "source": [
    "# LSTM class\n",
    "class PLSTM:\n",
    "    def __init__(self, input_shape, model_type, scaler=None):\n",
    "        self.scaler = scaler \n",
    "        optimizer = Adam()\n",
    "        self.model = Sequential()\n",
    "        self.h_n1 = 100 if model_type in [1,3,4] else 200\n",
    "        return_seq = True if model_type>2 else False\n",
    "        self.model.add(LSTM(units=self.h_n1, input_shape=(input_shape[1], 1), return_sequences=return_seq))\n",
    "        if model_type>2:\n",
    "            self.h_n2 = 50 if model_type == 3 else 100\n",
    "            self.model.add(LSTM(units=self.h_n2))\n",
    "            if type==4:\n",
    "                self.model.add(Dense(32))\n",
    "        self.model.add(Dense(1))\n",
    "        self.model.compile(loss=\"mean_squared_error\", optimizer=optimizer, metrics=[\"accuracy\", \"mean_absolute_error\"])\n",
    "    \n",
    "    def fit(self,x_train,y_train):\n",
    "        if self.scaler:\n",
    "            x_train = self.scaler.transform(x_train)\n",
    "            y_train = self.scaler.transform(y_train)\n",
    "\n",
    "        # reshape the entry as a 3D matrix with samples, timestamps and lastly features\n",
    "        # instead of only samples and features as usual.\n",
    "        x_train = np.reshape(x_train, (x_train.shape[0], x_train.shape[1], 1))\n",
    "        history = self.model.fit(x_train, y_train,\n",
    "                        epochs=50,\n",
    "                        batch_size=128,\n",
    "                        verbose=0)\n",
    "\n",
    "    def predict(self, x_test):\n",
    "        if self.scaler:\n",
    "            x_test = self.scaler.transform(x_test)\n",
    "            \n",
    "        x_test = np.reshape(x_test, (x_test.shape[0], x_test.shape[1], 1))\n",
    "        y_valid_pred = self.model.predict(x_test)\n",
    "        \n",
    "        if self.scaler:\n",
    "            y_valid_pred = self.scaler.transform(y_valid_pred)\n",
    "\n",
    "        return y_valid_pred.flatten()"
   ]
  },
  {
   "cell_type": "code",
   "execution_count": 10,
   "metadata": {},
   "outputs": [],
   "source": [
    "# CNN-LSTM class\n",
    "class CNNLSTM:\n",
    "    def __init__(self, input_shape, model_type, scaler=None):\n",
    "        self.scaler = scaler\n",
    "        optimizer = Adam()\n",
    "        self.model = Sequential()\n",
    "        self.h_n1 = 100 if model_type == 1 else 200\n",
    "        self.filter1 = 32 if model_type == 1 else 64\n",
    "        self.filter2 = 64 if model_type == 1 else 128\n",
    "        \n",
    "        self.model.add(Conv1D(self.filter1, 2,activation='relu',\n",
    "                       strides=1,\n",
    "                       padding='same',\n",
    "                       input_shape=(input_shape[1],\n",
    "                                   1)))\n",
    "\n",
    "        self.model.add(Conv1D(self.filter2, 2,\n",
    "                   activation='relu',\n",
    "                   strides=1,\n",
    "                   padding='same',\n",
    "                   input_shape=(input_shape[1],\n",
    "                                1)))\n",
    "\n",
    "        self.model.add(MaxPooling1D(pool_size=2, padding='valid'))\n",
    "        self.model.add(LSTM(units=self.h_n1, input_shape=(input_shape[1],1), ))\n",
    "        if type==3:\n",
    "            self.model.add(Dropout(0.2))  # 添加dropout层，dropout率0.2\n",
    "\n",
    "        if type==2:\n",
    "            self.model.add(Dense(32), activation='relu')\n",
    "\n",
    "        \n",
    "        self.model.add(Dense(1))\n",
    "        self.model.compile(loss=\"mean_squared_error\", optimizer=optimizer)\n",
    "    \n",
    "    def fit(self,x_train,y_train):\n",
    "        if self.scaler:\n",
    "            x_train = self.scaler.transform(x_train)\n",
    "            y_train = self.scaler.transform(y_train)\n",
    "            \n",
    "        # reshape the entry as a 3D matrix with samples, timestamps and lastly features\n",
    "        # instead of only samples and features as usual.\n",
    "        x_train = np.reshape(x_train, (x_train.shape[0], x_train.shape[1], 1))\n",
    "        \n",
    "        self.model.fit(x_train, y_train,\n",
    "                        epochs=50,\n",
    "                        batch_size=128,\n",
    "                        verbose=0\n",
    "                      )\n",
    "\n",
    "    def predict(self, x_test):\n",
    "        if self.scaler:\n",
    "            x_test = self.scaler.transform(x_test)\n",
    "            \n",
    "        x_test = np.reshape(x_test, (x_test.shape[0], x_test.shape[1], 1))\n",
    "        y_valid_pred = self.model.predict(x_test)\n",
    "        \n",
    "        if self.scaler:\n",
    "            y_valid_pred = self.scaler.transform(y_valid_pred)\n",
    "\n",
    "        return y_valid_pred.flatten()"
   ]
  },
  {
   "cell_type": "code",
   "execution_count": null,
   "metadata": {},
   "outputs": [],
   "source": []
  },
  {
   "cell_type": "code",
   "execution_count": 11,
   "metadata": {},
   "outputs": [],
   "source": [
    "def create_models(entry_shape, scaler=None):\n",
    "    # # SVR\n",
    "    # svr = SVR(kernel='rbf', C=1, tol=1e-3)\n",
    "\n",
    "    # # FFNN\n",
    "    # ffnn = FFNN(entry_shape[1], scaler)\n",
    "\n",
    "    # # LSTM1\n",
    "    # lstm1 = PLSTM(entry_shape, 1, scaler)\n",
    "\n",
    "    # # LSTM2\n",
    "    # lstm2 = PLSTM(entry_shape, 2, scaler)\n",
    "\n",
    "    # # LSTM3\n",
    "    # lstm3 = PLSTM(entry_shape, 3, scaler)\n",
    "\n",
    "    # # LSTM4\n",
    "    # lstm4 = PLSTM(entry_shape, 4, scaler)\n",
    "\n",
    "    # CNN-LSTM1\n",
    "    cnnlstm1 = CNNLSTM(entry_shape, 1, scaler)\n",
    "\n",
    "    # CNN-LSTM2\n",
    "    cnnlstm2 = CNNLSTM(entry_shape, 2, scaler)\n",
    "\n",
    "    # CNN-LSTM3\n",
    "    cnnlstm3 = CNNLSTM(entry_shape, 3, scaler)\n",
    "\n",
    "    labels = [\"CNN-LSTM1\", \"CNN-LSTM2\", \"CNN-LSTM3\"]\n",
    "    models = [cnnlstm1, cnnlstm2, cnnlstm3]\n",
    "\n",
    "    return labels, models"
   ]
  },
  {
   "cell_type": "markdown",
   "metadata": {},
   "source": [
    "## Rolling window approach\n",
    "The paper states that in order to predict the next day gold price, the model uses the $n$ past days gold prince, where $n$ stands for the time horizon used. Thus to generate a dataset with this specifications, we will use a rolling window algorithm to generate a window of features to a window of labels ( with in this case is equal to 1). This rolling window procedure works as follows:\n",
    "\n",
    "Features: $[n1, n2, n3, n4, n5]$ -> Label $[n6]$"
   ]
  },
  {
   "cell_type": "code",
   "execution_count": 12,
   "metadata": {},
   "outputs": [],
   "source": [
    "def rolling_window_mtx(x, window_size):\n",
    "        \"\"\"Compute all overlapping (rolling) observation windows over a vector \n",
    "            and return a matrix\n",
    "\n",
    "        Args:\n",
    "            x           : observation vector that is supposed to be split into\n",
    "                          overlapping windows\n",
    "            window_size : the target window size\n",
    "\n",
    "        Returns:\n",
    "\n",
    "            Window matrix with all windows as rows. That is, if n_windows is the\n",
    "            number of windows, the result has dimensions:\n",
    "\n",
    "            (n_windows, window_size)\n",
    "\n",
    "        \"\"\"\n",
    "        if window_size < 1:\n",
    "            raise ValueError(\"`window_size` must be at least 1.\")\n",
    "        if window_size > x.shape[-1]:\n",
    "            raise ValueError(\"`window_size` is too long.\")\n",
    "\n",
    "        shape = x.shape[:-1] + (x.shape[-1] - window_size + 1, window_size)\n",
    "        strides = x.strides + (x.strides[-1],)\n",
    "\n",
    "        return np.lib.stride_tricks.as_strided(x, shape=shape, strides=strides)"
   ]
  },
  {
   "cell_type": "code",
   "execution_count": 13,
   "metadata": {},
   "outputs": [],
   "source": [
    "def generate_feat_labels_per_horizon(time_horizon, df, verbose=False):\n",
    "\n",
    "    # Get the feature and label to the prediction task \n",
    "    feature_mtx = rolling_window_mtx(df, time_horizon)[:-1]\n",
    "    label_mtx   = rolling_window_mtx(df[time_horizon:], 1)\n",
    "    index_mtx   = rolling_window_mtx(np.arange(len(df)), time_horizon)\n",
    "\n",
    "    if verbose:\n",
    "        # Now we have a set of windows of the real coordinate\n",
    "        # Lets take a look in one window\n",
    "        print(f\"\\n One feature window: \\n {feature_mtx[0]}\")\n",
    "        print(f\"\\n One label window: \\n {label_mtx[0]}\")\n",
    "        print(f\"\\n Original dataset: \\n {df[0:5]}\")\n",
    "\n",
    "    # For the classification task (if the gold values goes up or down)\n",
    "    # We need to get a window of size 2, and then calculate the difference\n",
    "    # If positive, the gold value went up.\n",
    "    class_label_mtx = rolling_window_mtx(df[time_horizon-1:], 2)\n",
    "    func = lambda x: True if x > 0 else False\n",
    "    class_func = np.vectorize(func)\n",
    "    class_label_mtx = class_func(np.diff(class_label_mtx).flatten()).reshape(len(class_label_mtx),1)\n",
    "   \n",
    "    if verbose:\n",
    "    \n",
    "        print(f\"\\n One window of class label (If tomorrow price is larger than today's price): \\n {class_label_mtx[0]}\")\n",
    "    \n",
    "    return feature_mtx, label_mtx, class_label_mtx"
   ]
  },
  {
   "cell_type": "code",
   "execution_count": 14,
   "metadata": {},
   "outputs": [],
   "source": [
    "label_index_mtx = rolling_window_mtx(np.arange(len(df))[4:], 1)\n",
    "index_mtx   = rolling_window_mtx(np.arange(len(df)), 4)[:-1]"
   ]
  },
  {
   "cell_type": "code",
   "execution_count": 15,
   "metadata": {},
   "outputs": [
    {
     "data": {
      "text/plain": [
       "(array([921, 922, 923, 924]), array([925]))"
      ]
     },
     "execution_count": 15,
     "metadata": {},
     "output_type": "execute_result"
    }
   ],
   "source": [
    "train_idx = lastday_2017 - 4\n",
    "index_mtx[train_idx], label_index_mtx[train_idx]"
   ]
  },
  {
   "cell_type": "markdown",
   "metadata": {},
   "source": [
    "## Normalizing dataset"
   ]
  },
  {
   "cell_type": "code",
   "execution_count": 16,
   "metadata": {},
   "outputs": [
    {
     "data": {
      "text/plain": [
       "array([2.51769647, 2.51608227, 2.51769647, ..., 2.93757341, 2.93745152,\n",
       "       2.93855851])"
      ]
     },
     "execution_count": 16,
     "metadata": {},
     "output_type": "execute_result"
    }
   ],
   "source": [
    "df = df.reshape(len(df),1)\n",
    "scaler = MinMaxScaler(feature_range=(-1, 1))\n",
    "scaler.fit(df)\n",
    "df = df.flatten()\n",
    "df"
   ]
  },
  {
   "cell_type": "code",
   "execution_count": 17,
   "metadata": {},
   "outputs": [
    {
     "name": "stdout",
     "output_type": "stream",
     "text": [
      "CNN-LSTM1\n",
      "CNN-LSTM2\n",
      "CNN-LSTM3\n"
     ]
    }
   ],
   "source": [
    "entries = [6]\n",
    "models = []\n",
    "labels = []\n",
    "for entry in entries:\n",
    "    #Creating dataset\n",
    "    feature_mtx, label_mtx, class_label_mtx = generate_feat_labels_per_horizon(entry, df)\n",
    "    scaler_input = MinMaxScaler(feature_range=(-1, 1))\n",
    "    scaler_input.fit(feature_mtx)\n",
    "    scaler_output = MinMaxScaler(feature_range=(-1, 1))\n",
    "    scaler_output.fit(label_mtx)\n",
    "    train_idx = lastday_2017 - entry\n",
    "    train_x = feature_mtx[:train_idx]\n",
    "    train_y = label_mtx[:train_idx]\n",
    "    tmp_labels, tmp_models = create_models(train_x.shape)#, scaler)\n",
    "    for i in range(len(tmp_models)):\n",
    "        print(tmp_labels[i])\n",
    "        tmp_models[i].fit(train_x, train_y)\n",
    "    models.append(tmp_models)\n",
    "    labels.append(tmp_labels)"
   ]
  },
  {
   "cell_type": "code",
   "execution_count": 18,
   "metadata": {},
   "outputs": [
    {
     "name": "stdout",
     "output_type": "stream",
     "text": [
      "3\n"
     ]
    }
   ],
   "source": [
    "models = np.ravel(models)\n",
    "labels = np.ravel(labels)\n",
    "print(len(models))"
   ]
  },
  {
   "cell_type": "code",
   "execution_count": 19,
   "metadata": {},
   "outputs": [],
   "source": [
    "def classification_pred(y):\n",
    "    preds = []\n",
    "    for i in range(1, len(y)):\n",
    "        last_y = y[i - 1]\n",
    "        curr_y = y[i]\n",
    "        preds.append(curr_y - last_y > 0.0 )\n",
    "    return np.array(preds)\n",
    "\n",
    "# Metric functions\n",
    "def get_metrics(y, pred_y):\n",
    "    y_classification = classification_pred(y)\n",
    "    y_pred_classification = classification_pred(pred_y)\n",
    "    \n",
    "    fpr, tpr, thresholds = roc_curve(y_classification, y_pred_classification)\n",
    "    auc_value = auc(fpr, tpr)\n",
    "\n",
    "    \n",
    "    tp = 0\n",
    "    tn = 0\n",
    "    fp = 0\n",
    "    fn = 0\n",
    "    \n",
    "    for i in range(len(y_classification)):\n",
    "        is_y_pred_up = y_pred_classification[i]\n",
    "        is_y_up = y_classification[i][0]\n",
    "\n",
    "        if is_y_pred_up and is_y_up:\n",
    "            tp += 1\n",
    "        elif is_y_pred_up and not is_y_up:\n",
    "            fp += 1\n",
    "        elif not is_y_pred_up and not is_y_up:\n",
    "            tn += 1\n",
    "        else:\n",
    "            fn += 1\n",
    "\n",
    "    return tp, tn, fp, fn, auc_value"
   ]
  },
  {
   "cell_type": "code",
   "execution_count": 20,
   "metadata": {},
   "outputs": [
    {
     "name": "stdout",
     "output_type": "stream",
     "text": [
      "# Entries:  6\n",
      "7/7 [==============================] - 1s 4ms/step\n",
      "\n",
      "Classifier type:  CNN-LSTM1\n",
      "MAE =  0.04997062799127149\n",
      "RMSE =  0.0029802739727567197\n",
      "ACC =  0.5321100917431193\n",
      "AUC =  0.5281713900134953\n",
      "SEN =  0.6140350877192983\n",
      "SPE =  0.4423076923076923\n",
      "TP =  70\n",
      "TN =  46\n",
      "FP =  58\n",
      "FN =  44\n"
     ]
    },
    {
     "name": "stderr",
     "output_type": "stream",
     "text": [
      "f:\\develop\\miniconda3\\envs\\env_DeepLearning_PyTorch-1.13.1\\lib\\site-packages\\sklearn\\metrics\\_regression.py:483: FutureWarning: 'squared' is deprecated in version 1.4 and will be removed in 1.6. To calculate the root mean squared error, use the function'root_mean_squared_error'.\n",
      "  warnings.warn(\n",
      "f:\\develop\\miniconda3\\envs\\env_DeepLearning_PyTorch-1.13.1\\lib\\site-packages\\sklearn\\metrics\\_regression.py:483: FutureWarning: 'squared' is deprecated in version 1.4 and will be removed in 1.6. To calculate the root mean squared error, use the function'root_mean_squared_error'.\n",
      "  warnings.warn(\n"
     ]
    },
    {
     "name": "stdout",
     "output_type": "stream",
     "text": [
      "7/7 [==============================] - 1s 7ms/step\n",
      "\n",
      "Classifier type:  CNN-LSTM2\n",
      "MAE =  0.053951595543421715\n",
      "RMSE =  0.0034153836021775658\n",
      "ACC =  0.5412844036697247\n",
      "AUC =  0.5382085020242915\n",
      "SEN =  0.6052631578947368\n",
      "SPE =  0.47115384615384615\n",
      "TP =  69\n",
      "TN =  49\n",
      "FP =  55\n",
      "FN =  45\n"
     ]
    },
    {
     "name": "stderr",
     "output_type": "stream",
     "text": [
      "f:\\develop\\miniconda3\\envs\\env_DeepLearning_PyTorch-1.13.1\\lib\\site-packages\\sklearn\\metrics\\_regression.py:483: FutureWarning: 'squared' is deprecated in version 1.4 and will be removed in 1.6. To calculate the root mean squared error, use the function'root_mean_squared_error'.\n",
      "  warnings.warn(\n",
      "f:\\develop\\miniconda3\\envs\\env_DeepLearning_PyTorch-1.13.1\\lib\\site-packages\\sklearn\\metrics\\_regression.py:483: FutureWarning: 'squared' is deprecated in version 1.4 and will be removed in 1.6. To calculate the root mean squared error, use the function'root_mean_squared_error'.\n",
      "  warnings.warn(\n"
     ]
    },
    {
     "name": "stdout",
     "output_type": "stream",
     "text": [
      "7/7 [==============================] - 1s 7ms/step\n",
      "\n",
      "Classifier type:  CNN-LSTM3\n",
      "MAE =  0.06145470661193827\n",
      "RMSE =  0.004373756556970926\n",
      "ACC =  0.5321100917431193\n",
      "AUC =  0.5290148448043185\n",
      "SEN =  0.5964912280701754\n",
      "SPE =  0.46153846153846156\n",
      "TP =  68\n",
      "TN =  48\n",
      "FP =  56\n",
      "FN =  46\n"
     ]
    },
    {
     "name": "stderr",
     "output_type": "stream",
     "text": [
      "f:\\develop\\miniconda3\\envs\\env_DeepLearning_PyTorch-1.13.1\\lib\\site-packages\\sklearn\\metrics\\_regression.py:483: FutureWarning: 'squared' is deprecated in version 1.4 and will be removed in 1.6. To calculate the root mean squared error, use the function'root_mean_squared_error'.\n",
      "  warnings.warn(\n",
      "f:\\develop\\miniconda3\\envs\\env_DeepLearning_PyTorch-1.13.1\\lib\\site-packages\\sklearn\\metrics\\_regression.py:483: FutureWarning: 'squared' is deprecated in version 1.4 and will be removed in 1.6. To calculate the root mean squared error, use the function'root_mean_squared_error'.\n",
      "  warnings.warn(\n"
     ]
    },
    {
     "data": {
      "text/html": [
       "<div>\n",
       "<style scoped>\n",
       "    .dataframe tbody tr th:only-of-type {\n",
       "        vertical-align: middle;\n",
       "    }\n",
       "\n",
       "    .dataframe tbody tr th {\n",
       "        vertical-align: top;\n",
       "    }\n",
       "\n",
       "    .dataframe thead th {\n",
       "        text-align: right;\n",
       "    }\n",
       "</style>\n",
       "<table border=\"1\" class=\"dataframe\">\n",
       "  <thead>\n",
       "    <tr style=\"text-align: right;\">\n",
       "      <th></th>\n",
       "      <th>Model</th>\n",
       "      <th>MAE</th>\n",
       "      <th>RMSE</th>\n",
       "      <th>ACC (%)</th>\n",
       "      <th>AUC</th>\n",
       "      <th>SPEN</th>\n",
       "      <th>SPE</th>\n",
       "    </tr>\n",
       "  </thead>\n",
       "  <tbody>\n",
       "    <tr>\n",
       "      <th>0</th>\n",
       "      <td>CNN-LSTM1</td>\n",
       "      <td>0.049971</td>\n",
       "      <td>0.002980</td>\n",
       "      <td>53.211009</td>\n",
       "      <td>0.528171</td>\n",
       "      <td>0.614035</td>\n",
       "      <td>0.442308</td>\n",
       "    </tr>\n",
       "    <tr>\n",
       "      <th>1</th>\n",
       "      <td>CNN-LSTM2</td>\n",
       "      <td>0.053952</td>\n",
       "      <td>0.003415</td>\n",
       "      <td>54.128440</td>\n",
       "      <td>0.538209</td>\n",
       "      <td>0.605263</td>\n",
       "      <td>0.471154</td>\n",
       "    </tr>\n",
       "    <tr>\n",
       "      <th>2</th>\n",
       "      <td>CNN-LSTM3</td>\n",
       "      <td>0.061455</td>\n",
       "      <td>0.004374</td>\n",
       "      <td>53.211009</td>\n",
       "      <td>0.529015</td>\n",
       "      <td>0.596491</td>\n",
       "      <td>0.461538</td>\n",
       "    </tr>\n",
       "  </tbody>\n",
       "</table>\n",
       "</div>"
      ],
      "text/plain": [
       "       Model       MAE      RMSE    ACC (%)       AUC      SPEN       SPE\n",
       "0  CNN-LSTM1  0.049971  0.002980  53.211009  0.528171  0.614035  0.442308\n",
       "1  CNN-LSTM2  0.053952  0.003415  54.128440  0.538209  0.605263  0.471154\n",
       "2  CNN-LSTM3  0.061455  0.004374  53.211009  0.529015  0.596491  0.461538"
      ]
     },
     "metadata": {},
     "output_type": "display_data"
    }
   ],
   "source": [
    "# Testing models\n",
    "index_model = 0\n",
    "for entry in entries:\n",
    "    print (\"# Entries: \", entry)\n",
    "    feature_mtx, label_mtx, class_label_mtx = generate_feat_labels_per_horizon(entry, df)\n",
    "    scaler_input = MinMaxScaler(feature_range=(-1, 1))\n",
    "    scaler_input.fit(feature_mtx)\n",
    "    train_idx = lastday_2017 - entry\n",
    "    test_x = feature_mtx[train_idx:]\n",
    "    test_y = label_mtx[train_idx:]\n",
    "    \n",
    "    model_list = []\n",
    "    MAE_list = []\n",
    "    RMSE_list = []\n",
    "    ACC_list = []\n",
    "    AUC_list = []\n",
    "    SEN_list = []\n",
    "    SPE_list = []\n",
    "    \n",
    "    # indwx_model + len(models)\n",
    "    for i in range(index_model, index_model+3):\n",
    "        test_y_estimative = models[i].predict(test_x)\n",
    "        tp, tn, fp, fn, auc_value = get_metrics(test_y, test_y_estimative)\n",
    "        \n",
    "        print(\"\\nClassifier type: \", labels[i])\n",
    "        print(\"MAE = \", mean_absolute_error(test_y, test_y_estimative))\n",
    "        print(\"RMSE = \", mean_squared_error(test_y, test_y_estimative, squared=True))\n",
    "        print(\"ACC = \", (tp + tn) / (tp + tn + fp + fn))\n",
    "        print(\"AUC = \", auc_value)\n",
    "        print(\"SEN = \", tp / (tp + fn))\n",
    "        print(\"SPE = \", tn / (tn + fp))\n",
    "        print(\"TP = \", tp)\n",
    "        print(\"TN = \", tn)\n",
    "        print(\"FP = \", fp)\n",
    "        print(\"FN = \", fn)\n",
    "        \n",
    "        model_list.append(labels[i])\n",
    "        MAE_list.append(mean_absolute_error(test_y, test_y_estimative))\n",
    "        RMSE_list.append(mean_squared_error(test_y, test_y_estimative, squared=True))\n",
    "        ACC_list.append(((tp + tn) / (tp + tn + fp + fn))*100)\n",
    "        AUC_list.append(auc_value)\n",
    "        SEN_list.append(tp / (tp + fn))\n",
    "        SPE_list.append(tn / (tn + fp))\n",
    "        \n",
    "    df_print = pd.DataFrame(list(zip(model_list, MAE_list,RMSE_list,ACC_list,AUC_list,SEN_list, SPE_list)),\n",
    "           columns =['Model', 'MAE', 'RMSE', 'ACC (%)', 'AUC', 'SPEN', 'SPE'])\n",
    "    df_print.style\n",
    "    display(df_print)\n",
    "        \n",
    "    index_model += 3"
   ]
  },
  {
   "cell_type": "code",
   "execution_count": null,
   "metadata": {},
   "outputs": [],
   "source": []
  }
 ],
 "metadata": {
  "interpreter": {
   "hash": "f87398b2de8e90719949ed00c7b022e62357d5ca27b768fb93eb54116fa5b864"
  },
  "kernelspec": {
   "display_name": "Python 3.7.10 64-bit ('CNN-LSTM_gold_price-o7kuqWqa': pipenv)",
   "name": "python3"
  },
  "language_info": {
   "codemirror_mode": {
    "name": "ipython",
    "version": 3
   },
   "file_extension": ".py",
   "mimetype": "text/x-python",
   "name": "python",
   "nbconvert_exporter": "python",
   "pygments_lexer": "ipython3",
   "version": "3.10.13"
  }
 },
 "nbformat": 4,
 "nbformat_minor": 2
}
